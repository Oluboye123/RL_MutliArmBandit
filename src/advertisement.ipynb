{
 "cells": [
  {
   "cell_type": "markdown",
   "id": "7ad19dad",
   "metadata": {},
   "source": [
    "\n",
    "IMPORTING SOME LIBRARIES"
   ]
  },
  {
   "cell_type": "code",
   "execution_count": null,
   "id": "65b0a8a3",
   "metadata": {},
   "outputs": [],
   "source": [
    "import pandas as pd\n",
    "import numpy as np\n",
    "import matplotlib.pyplot as plt\n",
    "import seaborn as sns\n",
    "%matplotlib inline"
   ]
  },
  {
   "cell_type": "markdown",
   "id": "828c5e49",
   "metadata": {},
   "source": [
    "#Let us simulate a dataset with 5 x 10,000 as the shape, where the column is the\n",
    "#Banner_type ad and the rows are either 0 or 1, that is, whether the ad has been clicked (1)\n",
    "#or not clicked (0) by the user respectively:"
   ]
  },
  {
   "cell_type": "code",
   "execution_count": 67,
   "id": "b9329f6c",
   "metadata": {},
   "outputs": [],
   "source": [
    "df = pd.DataFrame()\n",
    "np.random.seed(100)\n",
    "df['Banner_type_0'] = np.random.randint(0,2,100000)\n",
    "df['Banner_type_1'] = np.random.randint(0,2,100000)\n",
    "df['Banner_type_2'] = np.random.randint(0,2,100000)\n",
    "df['Banner_type_3'] = np.random.randint(0,2,100000)\n",
    "df['Banner_type_4'] = np.random.randint(0,2,100000)\n",
    "df['Banner_type_5'] = np.random.randint(0,2,100000)\n",
    "df['Banner_type_6'] = np.random.randint(0,2,100000)\n",
    "df['Banner_type_7'] = np.random.randint(0,2,100000)\n",
    "df['Banner_type_8'] = np.random.randint(0,2,100000)\n",
    "df['Banner_type_9'] = np.random.randint(0,2,100000)"
   ]
  },
  {
   "cell_type": "code",
   "execution_count": 68,
   "id": "0d01fbe3",
   "metadata": {},
   "outputs": [
    {
     "data": {
      "text/html": [
       "<div>\n",
       "<style scoped>\n",
       "    .dataframe tbody tr th:only-of-type {\n",
       "        vertical-align: middle;\n",
       "    }\n",
       "\n",
       "    .dataframe tbody tr th {\n",
       "        vertical-align: top;\n",
       "    }\n",
       "\n",
       "    .dataframe thead th {\n",
       "        text-align: right;\n",
       "    }\n",
       "</style>\n",
       "<table border=\"1\" class=\"dataframe\">\n",
       "  <thead>\n",
       "    <tr style=\"text-align: right;\">\n",
       "      <th></th>\n",
       "      <th>Banner_type_0</th>\n",
       "      <th>Banner_type_1</th>\n",
       "      <th>Banner_type_2</th>\n",
       "      <th>Banner_type_3</th>\n",
       "      <th>Banner_type_4</th>\n",
       "      <th>Banner_type_5</th>\n",
       "      <th>Banner_type_6</th>\n",
       "      <th>Banner_type_7</th>\n",
       "      <th>Banner_type_8</th>\n",
       "      <th>Banner_type_9</th>\n",
       "    </tr>\n",
       "  </thead>\n",
       "  <tbody>\n",
       "    <tr>\n",
       "      <th>0</th>\n",
       "      <td>0</td>\n",
       "      <td>0</td>\n",
       "      <td>1</td>\n",
       "      <td>1</td>\n",
       "      <td>1</td>\n",
       "      <td>1</td>\n",
       "      <td>1</td>\n",
       "      <td>1</td>\n",
       "      <td>1</td>\n",
       "      <td>1</td>\n",
       "    </tr>\n",
       "    <tr>\n",
       "      <th>1</th>\n",
       "      <td>0</td>\n",
       "      <td>0</td>\n",
       "      <td>1</td>\n",
       "      <td>1</td>\n",
       "      <td>0</td>\n",
       "      <td>1</td>\n",
       "      <td>1</td>\n",
       "      <td>1</td>\n",
       "      <td>1</td>\n",
       "      <td>1</td>\n",
       "    </tr>\n",
       "    <tr>\n",
       "      <th>2</th>\n",
       "      <td>1</td>\n",
       "      <td>0</td>\n",
       "      <td>0</td>\n",
       "      <td>1</td>\n",
       "      <td>1</td>\n",
       "      <td>1</td>\n",
       "      <td>0</td>\n",
       "      <td>1</td>\n",
       "      <td>1</td>\n",
       "      <td>0</td>\n",
       "    </tr>\n",
       "    <tr>\n",
       "      <th>3</th>\n",
       "      <td>1</td>\n",
       "      <td>1</td>\n",
       "      <td>0</td>\n",
       "      <td>0</td>\n",
       "      <td>1</td>\n",
       "      <td>0</td>\n",
       "      <td>1</td>\n",
       "      <td>1</td>\n",
       "      <td>1</td>\n",
       "      <td>1</td>\n",
       "    </tr>\n",
       "    <tr>\n",
       "      <th>4</th>\n",
       "      <td>1</td>\n",
       "      <td>1</td>\n",
       "      <td>0</td>\n",
       "      <td>1</td>\n",
       "      <td>0</td>\n",
       "      <td>1</td>\n",
       "      <td>1</td>\n",
       "      <td>0</td>\n",
       "      <td>0</td>\n",
       "      <td>0</td>\n",
       "    </tr>\n",
       "  </tbody>\n",
       "</table>\n",
       "</div>"
      ],
      "text/plain": [
       "   Banner_type_0  Banner_type_1  Banner_type_2  Banner_type_3  Banner_type_4  \\\n",
       "0              0              0              1              1              1   \n",
       "1              0              0              1              1              0   \n",
       "2              1              0              0              1              1   \n",
       "3              1              1              0              0              1   \n",
       "4              1              1              0              1              0   \n",
       "\n",
       "   Banner_type_5  Banner_type_6  Banner_type_7  Banner_type_8  Banner_type_9  \n",
       "0              1              1              1              1              1  \n",
       "1              1              1              1              1              1  \n",
       "2              1              0              1              1              0  \n",
       "3              0              1              1              1              1  \n",
       "4              1              1              0              0              0  "
      ]
     },
     "execution_count": 68,
     "metadata": {},
     "output_type": "execute_result"
    }
   ],
   "source": [
    "df.head()"
   ]
  },
  {
   "cell_type": "code",
   "execution_count": 69,
   "id": "3f5ff622",
   "metadata": {},
   "outputs": [],
   "source": [
    "num_banner = 10\n",
    "no_of_iterations = 100000\n",
    "banner_selected = []\n",
    "count = np.zeros(num_banner)\n",
    "Q = np.zeros(num_banner)\n",
    "sum_rewards = np.zeros(num_banner)"
   ]
  },
  {
   "cell_type": "markdown",
   "id": "238ed02d",
   "metadata": {},
   "source": [
    "Define an epsilon-greedy policy:"
   ]
  },
  {
   "cell_type": "code",
   "execution_count": 70,
   "id": "0c0ac13c",
   "metadata": {},
   "outputs": [
    {
     "name": "stderr",
     "output_type": "stream",
     "text": [
      "C:\\ProgramData\\Anaconda3\\lib\\site-packages\\seaborn\\distributions.py:2557: FutureWarning: `distplot` is a deprecated function and will be removed in a future version. Please adapt your code to use either `displot` (a figure-level function with similar flexibility) or `histplot` (an axes-level function for histograms).\n",
      "  warnings.warn(msg, FutureWarning)\n"
     ]
    },
    {
     "data": {
      "text/plain": [
       "<AxesSubplot:ylabel='Density'>"
      ]
     },
     "execution_count": 70,
     "metadata": {},
     "output_type": "execute_result"
    },
    {
     "data": {
      "image/png": "[encoded data removed]",
      "text/plain": [
       "<Figure size 432x288 with 1 Axes>"
      ]
     },
     "metadata": {
      "needs_background": "light"
     },
     "output_type": "display_data"
    }
   ],
   "source": [
    "def epsilon_greedy(epsilon):\n",
    "    random_value = np.random.random()\n",
    "    choose_random = random_value < epsilon\n",
    "    if choose_random:\n",
    "        action = np.random.choice(num_banner)\n",
    "    else:\n",
    "        action = np.argmax(Q)\n",
    "    return action\n",
    "\n",
    "for i in range(no_of_iterations):\n",
    "    banner = epsilon_greedy(0.5)\n",
    "    reward = df.values[i, banner]\n",
    "    count[banner] += 1\n",
    "    sum_rewards[banner]+=reward\n",
    "    Q[banner] = sum_rewards[banner]/count[banner]\n",
    "    banner_selected.append(banner)\n",
    "sns.distplot(banner_selected)"
   ]
  },
  {
   "cell_type": "code",
   "execution_count": null,
   "id": "daa87c72",
   "metadata": {},
   "outputs": [],
   "source": []
  }
 ],
 "metadata": {
  "kernelspec": {
   "display_name": "Python 3 (ipykernel)",
   "language": "python",
   "name": "python3"
  },
  "language_info": {
   "codemirror_mode": {
    "name": "ipython",
    "version": 3
   },
   "file_extension": ".py",
   "mimetype": "text/x-python",
   "name": "python",
   "nbconvert_exporter": "python",
   "pygments_lexer": "ipython3",
   "version": "3.9.12"
  }
 },
 "nbformat": 4,
 "nbformat_minor": 5
}
