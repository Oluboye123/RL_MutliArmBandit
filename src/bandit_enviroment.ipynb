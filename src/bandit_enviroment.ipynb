{
 "cells": [
  {
   "cell_type": "code",
   "execution_count": 3,
   "metadata": {},
   "outputs": [],
   "source": [
    "import numpy as np\n",
    "import matplotlib.pyplot as plt\n",
    "%matplotlib inline\n",
    "import random\n"
   ]
  },
  {
   "cell_type": "markdown",
   "metadata": {},
   "source": [
    "CREATING THE BANDIT ENVIROMENT"
   ]
  },
  {
   "cell_type": "code",
   "execution_count": 4,
   "metadata": {},
   "outputs": [],
   "source": [
    "class Bandit_Environment(object):\n",
    "    def __init__(self, reward_probas, rewards):\n",
    "        #if len(reward_probas) != len(rewards):\n",
    "            #raise Exception(f\"size of reward probas : {len(reward_probas)} does not match size of rewards: {len(rewards)}\")\n",
    "            \n",
    "        self.reward_probas = reward_probas\n",
    "        self.rewards = rewards \n",
    "        self.k_arms = len(rewards)\n",
    "\n",
    "    def pull_arm(self, arm):\n",
    "        if arm < 0 or arm > self.k_arms:\n",
    "            raise Exception(f\"arm must be a value between 0 and {self.k_arms -1}\")\n",
    "\n",
    "        if np.random.random() < self.reward_probas[arm]:\n",
    "            return self.rewards[arm] \n",
    "        else:\n",
    "            return 0.0"
   ]
  }
 ],
 "metadata": {
  "kernelspec": {
   "display_name": "Python 3 (ipykernel)",
   "language": "python",
   "name": "python3"
  },
  "language_info": {
   "codemirror_mode": {
    "name": "ipython",
    "version": 3
   },
   "file_extension": ".py",
   "mimetype": "text/x-python",
   "name": "python",
   "nbconvert_exporter": "python",
   "pygments_lexer": "ipython3",
   "version": "3.9.12"
  }
 },
 "nbformat": 4,
 "nbformat_minor": 4
}
