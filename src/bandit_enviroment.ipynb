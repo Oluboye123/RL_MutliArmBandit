{
 "cells": [
  {
   "cell_type": "code",
   "execution_count": 3,
   "metadata": {},
   "outputs": [],
   "source": [
    "import numpy as np\n",
    "import matplotlib.pyplot as plt\n",
    "%matplotlib inline\n",
    "import random\n"
   ]
  },
  {
   "cell_type": "markdown",
   "metadata": {},
   "source": [
    "CREATING THE BANDIT ENVIROMENT"
   ]
  },
  {
   "cell_type": "code",
   "execution_count": 4,
   "metadata": {},
   "outputs": [],
   "source": [
    "class Bandit_Environment(object):\n",
    "    def __init__(self, reward_probas, rewards):\n",
    "        #if len(reward_probas) != len(rewards):\n",
    "            #raise Exception(f\"size of reward probas : {len(reward_probas)} does not match size of rewards: {len(rewards)}\")\n",
    "            \n",
    "        self.reward_probas = reward_probas\n",
    "        self.rewards = rewards \n",
    "        self.k_arms = len(rewards)\n",
    "\n",
    "    def pull_arm(self, arm):\n",
    "        if arm < 0 or arm > self.k_arms:\n",
    "            raise Exception(f\"arm must be a value between 0 and {self.k_arms -1}\")\n",
    "\n",
    "        if np.random.random() < self.reward_probas[arm]:\n",
    "            return self.rewards[arm] \n",
    "        else:\n",
    "            return 0.0"
   ]
  },
  {
   "cell_type": "markdown",
   "metadata": {},
   "source": [
    "CREATING THE RANDOM AGENT  "
   ]
  },
  {
   "cell_type": "code",
   "execution_count": null,
   "metadata": {},
   "outputs": [],
   "source": [
    "class RandomAgent(object): #uses random random\n",
    "    def __init__(self, env, max_iterations=2000):\n",
    "        self.env = env\n",
    "        self.iterations = max_iterations\n",
    "   \n",
    "    def execute(self):\n",
    "        arm_counts = np.zeros(self.env.k_arms) #initialize starting arms array to zeros\n",
    "        rewards = []\n",
    "        arm_count_reward = np.empty(self.env.k_arms)\n",
    "        cum_rewards = []\n",
    "\n",
    "        for i in range(1, self.iterations + 1):\n",
    "            arm = np.random.choice(self.env.k_arms) #randomly explore any arm index e.g if choice return 4 explore arm3\n",
    "            reward = self.env.pull_arm(arm)\n",
    "\n",
    "            arm_counts[arm] += 1\n",
    "            arm_count_reward[arm] += round(reward,2)\n",
    "            rewards.append(reward)\n",
    "            cum_rewards.append(sum(rewards)/ len(rewards))\n",
    "            #print(\"iteration \", i ,\" pulled arm \", arm ,\" with reward \", reward)\n",
    "        return {\"arms\": arm_counts, \"rewards\": rewards, \"cum_rewards\": cum_rewards, \"arm_rewards\" : arm_count_reward}"
   ]
  },
  {
   "cell_type": "markdown",
   "metadata": {},
   "source": [
    "DEFINING THE PLOT HISTORY"
   ]
  },
  {
   "cell_type": "code",
   "execution_count": null,
   "metadata": {},
   "outputs": [],
   "source": [
    "def plot_history(history):\n",
    "    rewards = history[\"rewards\"]\n",
    "    cum_rewards = history[\"cum_rewards\"]\n",
    "    chosen_arms = history[\"arms\"]\n",
    "    chosen_arms_reward = history[\"arm_rewards\"]\n",
    "    \n",
    "    \n",
    "    fig = plt.figure(figsize=[30,16])\n",
    "    \n",
    "    \n",
    "    ax2 = fig.add_subplot(221)\n",
    "    ax2.plot(cum_rewards, label=\"avg rewards\")\n",
    "    ax2.set_xlabel(\"Iteration\")\n",
    "    ax2.set_ylabel(\"Average reward\")\n",
    "    ax2.set_title(\"Cummulative Rewards\")\n",
    "\n",
    "    ax3 = fig.add_subplot(222)\n",
    "    ax3.bar([i for i in range(len(chosen_arms))], chosen_arms, label=\"chosen arms\")\n",
    "    ax3.set_xlabel(\"Arms\")\n",
    "    ax3.set_ylabel(\"Number of pulls of each arms\")\n",
    "    ax3.set_title(\"Chosen Actions\")\n",
    "    \n",
    "    ax4 = fig.add_subplot(223)\n",
    "    ax4.bar([i for i in range(len(chosen_arms_reward))], chosen_arms_reward, label=\"chosen arms reward\")\n",
    "    ax4.set_xlabel(\"Arms\")\n",
    "    ax4.set_ylabel(\"Total rewards per arm\")\n",
    "    ax4.set_title(\"Chosen Arm Rewards\")\n",
    "    "
   ]
  }
 ],
 "metadata": {
  "kernelspec": {
   "display_name": "Python 3 (ipykernel)",
   "language": "python",
   "name": "python3"
  },
  "language_info": {
   "codemirror_mode": {
    "name": "ipython",
    "version": 3
   },
   "file_extension": ".py",
   "mimetype": "text/x-python",
   "name": "python",
   "nbconvert_exporter": "python",
   "pygments_lexer": "ipython3",
   "version": "3.9.12"
  }
 },
 "nbformat": 4,
 "nbformat_minor": 4
}
